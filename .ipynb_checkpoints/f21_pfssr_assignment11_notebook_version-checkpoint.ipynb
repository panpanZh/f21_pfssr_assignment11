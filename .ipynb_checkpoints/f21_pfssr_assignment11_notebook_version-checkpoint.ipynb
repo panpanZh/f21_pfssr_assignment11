{
 "cells": [
  {
   "cell_type": "markdown",
   "metadata": {},
   "source": [
    "# EPSY 5122: Programming for Social Science Researchers\n",
    "## Assignment 11\n",
    "### Due Wednesday, December 1 by 2:30pm"
   ]
  },
  {
   "cell_type": "markdown",
   "metadata": {},
   "source": [
    "#### Problem 0\n",
    "\n",
    "If you've made it to this document, you likely already did Problem 0 from the readme.  But just in case, here it is again!\n",
    "\n",
    "a) Let's watch some videos! I recommend all the videos in this series (for future learning), but we will just focus on two now. Watch the first half of this video (https://www.youtube.com/watch?v=_NrSWLQsDL4&list=PLRqwX-V7Uu6ZF9C0YMKuns9sLDzK6zoiV&index=3) -- just the part about forking, you can ignore pull requests!  Then watch this video:\n",
    "https://www.youtube.com/watch?v=yXT1ElMEkW8&list=PLRqwX-V7Uu6ZF9C0YMKuns9sLDzK6zoiV&index=6 (you don't have to do the terminal git commands, you can use the clone strategy we used in class)\n",
    "\n",
    "b) Using what you learned in 0a, **fork** my GitHub repository (remote repo) to your own account, then **clone** to your hard drive (local repo) using GitKraken (or use the command-line if you want the extra challenge).  After finishing EACH problem below, make sure to STAGE and COMMIT with a comment (e.g., \"Just finished Part 1! Git is fun!\" or whatever).  Then PUSH back to GitHub."
   ]
  },
  {
   "cell_type": "markdown",
   "metadata": {},
   "source": [
    "###### Note on privacy!\n",
    "\n",
    "By default, GitHub repos are public (promoting open source sharing of code), but of course you are more than welcome to make your code for this assignment private, as is your right!  Unfortunately, it's a little bit complicated because GitKraken recently made a change that the free version of their software doesn't allow for private repo access, and you need the paid version.  So here are 3 ways to do this privately:\n",
    "\n",
    "1) GitKraken partners with GitHub to provide a free pack of resources (including the pro version of GitKraken) for *students*.  That's you!  So you can sign up here *only if you want to do this*: https://education.github.com/pack?utm_source=github+gitkraken\n",
    "\n",
    "2) Just keep your GitHub repo public while you're working on this project.  Use free GitKraken.  Then switch the GitHub repo to Private only when you're done using GitKraken to push to GitHub.\n",
    "\n",
    "3) Keep the repo private and use the terminal git commands in the YouTube video for Problem 0a.\n",
    "\n",
    "To make the repo private:\n",
    "On your GitHub repo, go to Settings > Manage Access > Manage (under Public Repository) > Change Visibility.  Then add me (jkbye) as a 'collaborator' so I can see it: Settings > Manage Access > Invite a Collaborator (green button) > add 'jkbye'."
   ]
  },
  {
   "cell_type": "markdown",
   "metadata": {},
   "source": [
    "#### Problem 1\n",
    "\n",
    "Now let's get to Jupyter!\n",
    "\n",
    "a) Import any helpful libraries in this Jupyter Notebook.\n",
    "\n",
    "b) Load the *MA_Public_Schools_2017.csv* file as a pandas data frame.  Note: these data are from Kaggle: https://www.kaggle.com/ndalziel/massachusetts-public-schools-data and I have already removed a lot of columns.\n",
    "\n",
    "c) Adapt the example code in the chunk below to replace all spaces in column names with underscores. This is good practice in order to not cause problems with functions that don't allow spaces in variable names (e.g., **smf.ols**).\n",
    "\n",
    "d) Adapt the code from 1c to replace \"%\" sign with \"Perc\", because it is also good practice not to start column names with symbols.\n",
    "\n",
    "e) Find the descriptives for numeric columns.\n",
    "\n",
    "f) Commit your changes and push to GitHub!"
   ]
  },
  {
   "cell_type": "code",
   "execution_count": null,
   "metadata": {},
   "outputs": [],
   "source": [
    "# Problem 1 code here (can split into multiple code chunks if you want)\n",
    "\n",
    "# starter code for 1c -- replace school_data w/ your dataframe name\n",
    "school_data.columns = school_data.columns.str.replace(' ', '_') # notice this replaces the 1st argument w/ the 2nd"
   ]
  },
  {
   "cell_type": "markdown",
   "metadata": {},
   "source": [
    "#### Problem 2\n",
    "\n",
    "a) Remove the District Code column.\n",
    "\n",
    "b) Create a new column called \"TOTAL_Enrollment\" that is the sum of all columns that end in \"Enrollment\".\n",
    "\n",
    "c) Compute the mean of \"TOTAL_Enrollment\" for each District. (Hint: groupby)\n",
    "\n",
    "d) Commit your changes and push to GitHub!"
   ]
  },
  {
   "cell_type": "code",
   "execution_count": null,
   "metadata": {},
   "outputs": [],
   "source": [
    "# Problem 2 code here (can split into multiple code chunks if you want)"
   ]
  },
  {
   "cell_type": "markdown",
   "metadata": {},
   "source": [
    "#### Problem 3\n",
    "\n",
    "a) Visualize each bivariate relationship among Average_Class_Size, Average_Salary, Perc_Economically_Disadvantaged, and Perc_English_Language_Learner.  Use the Seaborn function **pairplot**.  The argument to `pairplot` should be `school_data[['Average_Class_Size', 'Average_Salary', 'Perc_Economically_Disadvantaged', 'Perc_English_Language_Learner']]`, which will just pull those columns out from the full data frame.\n",
    "\n",
    "b) Describe what you see from the plots.\n",
    "\n",
    "c) Based on your observations from 3b, and as a completely post-hoc, exploratory analysis, choose one of the 4 measures from 3a to be an outcome variable, and a second measure to be a predictor variable.  Then run a linear regression, print the *summary*, and write a sentence interpreting the results (does not need to be detailed, just practice retrieving the relevant info on predictor significance, etc.)\n",
    "\n",
    "d) Commit your changes and push to GitHub!"
   ]
  },
  {
   "cell_type": "code",
   "execution_count": null,
   "metadata": {},
   "outputs": [],
   "source": [
    "# Problem 3 code here (can split into multiple code chunks if you want)"
   ]
  },
  {
   "cell_type": "markdown",
   "metadata": {},
   "source": [
    "#### Problem 4\n",
    "\n",
    "a) Create a new linear regression model that takes the model from 3c and adds both of the remaining variables from 3a as additional predictor variables.  To do this, the formula interface would look like `\"outcome_name ~ predictor1_name + predictor2_name + predictor3_name\"`\n",
    "\n",
    "b) Print the summary from 4a, and write a short interpretation of the results, especially comparing it to Problem 3c.  \n",
    "\n",
    "c) Add School_Type as another predictor to your model.  Interpret the new predictor in your output.  How is it different from the other predictors?\n",
    "\n",
    "d) Commit your changes and push to GitHub!"
   ]
  },
  {
   "cell_type": "code",
   "execution_count": null,
   "metadata": {},
   "outputs": [],
   "source": [
    "# Problem 4 code here (can split into multiple code chunks if you want)"
   ]
  },
  {
   "cell_type": "markdown",
   "metadata": {},
   "source": [
    "#### Problem 5\n",
    "\n",
    "a) Save this Jupyter notebook as an HTML file (File > Download As > HTML) into your local repository (this folder). By default, Jupyter may put your HTML file in your default Downloads folder (wherever that is) -- if that happens, just manually move the file into this repo folder.\n",
    "\n",
    "b) Stage, commit, and push all changes to your GitHub repository.\n",
    "\n",
    "c) Submit a link to your repository as your submission for the assignment on Canvas. Remember the note from Problem 0: you can keep your repo private and add me as a collaborator."
   ]
  }
 ],
 "metadata": {
  "kernelspec": {
   "display_name": "Python 3",
   "language": "python",
   "name": "python3"
  },
  "language_info": {
   "codemirror_mode": {
    "name": "ipython",
    "version": 3
   },
   "file_extension": ".py",
   "mimetype": "text/x-python",
   "name": "python",
   "nbconvert_exporter": "python",
   "pygments_lexer": "ipython3",
   "version": "3.8.8"
  }
 },
 "nbformat": 4,
 "nbformat_minor": 2
}
